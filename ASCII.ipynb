{
 "cells": [
  {
   "cell_type": "code",
   "execution_count": 4,
   "id": "672d9220-66ad-48d0-ab26-e77debec17e2",
   "metadata": {
    "tags": []
   },
   "outputs": [],
   "source": [
    "import cv2\n",
    "from statistics import mean\n",
    "import math\n",
    "densidad = list('MWN$@%#&B89EGA6mK5HRkbYT43V0JL7gpaseyxznocv?jIftr1li*=-~^`\\':;,.                                                  ')\n",
    "densidad\n",
    "\n",
    "def mapRange(value, inMin, inMax, outMin, outMax):\n",
    "    return math.floor(outMin + (((value - inMin) / (inMax - inMin)) * (outMax - outMin)))\n",
    "\n",
    "def img_to_ascii(image):\n",
    "    # grab the image dimensions\n",
    "    h = image.shape[0]\n",
    "    w = image.shape[1]\n",
    "    out = ''\n",
    "    # loop over the image, pixel by pixel\n",
    "    for y in range(0, h):\n",
    "        for x in range(0, w):\n",
    "            value = mapRange(mean(image[y,x]),0,255,0,len(densidad))\n",
    "            out+=densidad[value-1]\n",
    "        out+=\"\\n\"\n",
    "    return out\n"
   ]
  },
  {
   "cell_type": "markdown",
   "id": "21e200f1-ae11-49fb-8667-2eb7e2ac8142",
   "metadata": {},
   "source": [
    "## Video a ASCII"
   ]
  },
  {
   "cell_type": "code",
   "execution_count": 2,
   "id": "1e24f58d-767e-4776-82c8-5a75f42f801b",
   "metadata": {},
   "outputs": [],
   "source": [
    "vid = cv2.VideoCapture(0)\n",
    "while(True):\n",
    "      \n",
    "    # Capture the video frame\n",
    "    # by frame\n",
    "    ret, frame = vid.read()\n",
    "\n",
    "    # Display the resulting frame\n",
    "    cv2.imshow('frame', frame)\n",
    "    import os\n",
    "    os.system(\"cls\")\n",
    "    scale_percent = 50 # percent of original size\n",
    "    width = int(frame.shape[1] * scale_percent / 100)\n",
    "    height = int(frame.shape[0] * scale_percent / 100)\n",
    "    dim = (width, height)\n",
    "    resized = cv2.resize(frame, dim, interpolation = cv2.INTER_AREA)\n",
    "    out = img_to_ascii(resized)\n",
    "    print(out)\n",
    "    # the 'q' button is set as the\n",
    "    # quitting button you may use any\n",
    "    # desired button of your choice\n",
    "    if cv2.waitKey(1) & 0xFF == ord('q'):\n",
    "        break\n",
    "  \n",
    "# After the loop release the cap object\n",
    "vid.release()\n",
    "# Destroy all the windows\n",
    "cv2.destroyAllWindows()"
   ]
  },
  {
   "cell_type": "markdown",
   "id": "6db72c5a-bfa9-4575-8031-00bec913f97e",
   "metadata": {},
   "source": [
    "## Imagen a ASCII"
   ]
  },
  {
   "cell_type": "code",
   "execution_count": 8,
   "id": "a49a2358-6ff0-482a-9208-74390b26f43d",
   "metadata": {
    "tags": []
   },
   "outputs": [],
   "source": [
    "img = cv2.imread('images/tree.jpg')\n",
    "\n",
    "# show image\n",
    "\n",
    "scale_percent = 100 # percent of original size\n",
    "width = int(img.shape[1] * scale_percent / 100)\n",
    "height = int(img.shape[0] * scale_percent / 100)\n",
    "dim = (width, height)\n",
    "resized = cv2.resize(img, dim, interpolation = cv2.INTER_AREA)\n",
    "\n",
    "cv2.destroyAllWindows()\n",
    "out = img_to_ascii(resized)\n",
    "with open(\"output.txt\", mode=\"w\") as f:\n",
    "    f.write(out)"
   ]
  },
  {
   "cell_type": "code",
   "execution_count": null,
   "id": "83c479b3-7e6d-4dc6-8fd9-0304edf08c50",
   "metadata": {
    "tags": []
   },
   "outputs": [],
   "source": []
  },
  {
   "cell_type": "code",
   "execution_count": 75,
   "id": "0d8286ea-3ad3-4b42-a264-af662444a3f8",
   "metadata": {},
   "outputs": [],
   "source": []
  },
  {
   "cell_type": "code",
   "execution_count": null,
   "id": "9bc9aa4c-5e10-414f-aa1f-6347370eee5e",
   "metadata": {},
   "outputs": [],
   "source": []
  }
 ],
 "metadata": {
  "kernelspec": {
   "display_name": "Python 3 (ipykernel)",
   "language": "python",
   "name": "python3"
  },
  "language_info": {
   "codemirror_mode": {
    "name": "ipython",
    "version": 3
   },
   "file_extension": ".py",
   "mimetype": "text/x-python",
   "name": "python",
   "nbconvert_exporter": "python",
   "pygments_lexer": "ipython3",
   "version": "3.7.16"
  }
 },
 "nbformat": 4,
 "nbformat_minor": 5
}
